{
  "nbformat": 4,
  "nbformat_minor": 0,
  "metadata": {
    "colab": {
      "name": "final.ipynb",
      "provenance": [],
      "collapsed_sections": []
    },
    "kernelspec": {
      "name": "python3",
      "display_name": "Python 3"
    }
  },
  "cells": [
    {
      "cell_type": "code",
      "metadata": {
        "id": "nC5v2xi4dwMB",
        "colab_type": "code",
        "colab": {}
      },
      "source": [
        "%tensorflow_version 1.x\n"
      ],
      "execution_count": 0,
      "outputs": []
    },
    {
      "cell_type": "code",
      "metadata": {
        "id": "rUPVJ5qx4Nsh",
        "colab_type": "code",
        "colab": {}
      },
      "source": [
        "import keras\n",
        "from keras.models import Sequential,Model\n",
        "from keras.layers import Dense,SimpleRNN,Multiply,LSTM,Add ,GRU,Flatten,BatchNormalization,Lambda\n",
        "from keras.layers import  Permute,Reshape,Conv2D,MaxPooling2D,AveragePooling2D,concatenate,Concatenate\n",
        "import tensorflow as tf\n",
        "from keras.layers.core import Activation\n",
        "import numpy as np\n",
        "from keras import Input\n",
        "from keras.backend import squeeze,expand_dims\n",
        "import h5py\n",
        "from __future__ import absolute_import, division, print_function, unicode_literals\n",
        "import os\n",
        "import tensorflow as tf\n",
        "from tensorflow import keras\n",
        "from google.colab import files\n",
        "from keras.callbacks import ModelCheckpoint\n"
      ],
      "execution_count": 0,
      "outputs": []
    },
    {
      "cell_type": "code",
      "metadata": {
        "colab_type": "code",
        "id": "3ZoIQATTDcmo",
        "colab": {}
      },
      "source": [
        "vision_lambda = Input(shape=(1,6,128,256))\n",
        "#vision_lambda1 = keras.backend.squeeze(vision_lambda,0)\n",
        "vision_lambda1 = Lambda(lambda x: squeeze(x, axis=0))(vision_lambda)\n",
        "\n",
        "vision_per = Permute((2,3,1))(vision_lambda1)\n",
        "vision_conv2d = Conv2D(8,(5,5),strides=(1,1), padding='same',input_shape=vision_per.shape)(vision_per)\n",
        "vision_elu = Activation('elu')(vision_conv2d)\n",
        "vision_maxpool2d = AveragePooling2D(pool_size=(3, 3), strides=(2,2), padding='same')(vision_elu)"
      ],
      "execution_count": 0,
      "outputs": []
    },
    {
      "cell_type": "code",
      "metadata": {
        "id": "52PoDjOa5aIW",
        "colab_type": "code",
        "colab": {}
      },
      "source": [
        "vision1_con2d_l_1 = Conv2D(16,(1,1),strides=(1,1), padding='valid')(vision_maxpool2d)\n",
        "vision1_con2d_r_1 = Conv2D(16,(3,3),strides=(1,1), padding='same')(vision_maxpool2d)\n",
        "vision1_con2d_r_2 = Activation('elu')(vision1_con2d_r_1)\n",
        "vision1_con2d_r_3 = Conv2D(16,(3,3),strides=(1,1), padding='same')(vision1_con2d_r_2)\n",
        "vision1_con2d_r_4 = Activation('elu')(vision1_con2d_r_3)\n",
        "vision1_con2d_add = Add()([vision1_con2d_l_1,vision1_con2d_r_4])\n",
        "vision1_con2d_elu = Activation('elu')(vision1_con2d_add)\n"
      ],
      "execution_count": 0,
      "outputs": []
    },
    {
      "cell_type": "code",
      "metadata": {
        "id": "C6YceGBh7cOn",
        "colab_type": "code",
        "colab": {}
      },
      "source": [
        "vision2_con2d_r_1 = Conv2D(16,(3,3),strides=(1,1), padding='same')(vision1_con2d_elu)\n",
        "vision2_con2d_r_2 = Activation('elu')(vision2_con2d_r_1)\n",
        "vision2_con2d_r_3 = Conv2D(16,(3,3),strides=(1,1), padding='same')(vision2_con2d_r_2)\n",
        "vision2_con2d_r_4 = Activation('elu')(vision2_con2d_r_3)\n",
        "vision2_con2d_add = Add()([vision1_con2d_elu,vision2_con2d_r_4])\n",
        "vision2_con2d_elu = Activation('elu')(vision2_con2d_add)"
      ],
      "execution_count": 0,
      "outputs": []
    },
    {
      "cell_type": "code",
      "metadata": {
        "id": "95FObU0-DmYs",
        "colab_type": "code",
        "colab": {}
      },
      "source": [
        "vision3_con2d_l_1 = Conv2D(32,(1,1),strides=(2,2), padding='valid')(vision2_con2d_elu)\n",
        "vision3_con2d_r_1 = Conv2D(32,(3,3),strides=(2,2), padding='same')(vision2_con2d_elu)\n",
        "vision3_con2d_r_2 = Activation('elu')(vision3_con2d_r_1)\n",
        "vision3_con2d_r_3 = Conv2D(32,(3,3),strides=(1,1), padding='same')(vision3_con2d_r_2)\n",
        "vision3_con2d_r_4 = Activation('elu')(vision3_con2d_r_3)\n",
        "vision3_con2d_add = Add()([vision3_con2d_l_1,vision3_con2d_r_4])\n",
        "vision3_con2d_elu = Activation('elu')(vision3_con2d_add)"
      ],
      "execution_count": 0,
      "outputs": []
    },
    {
      "cell_type": "code",
      "metadata": {
        "id": "Xbm0kFQkDmmy",
        "colab_type": "code",
        "colab": {}
      },
      "source": [
        "vision4_con2d_r_1 = Conv2D(32,(3,3),strides=(1,1), padding='same')(vision3_con2d_elu)\n",
        "vision4_con2d_r_2 = Activation('elu')(vision4_con2d_r_1)\n",
        "vision4_con2d_r_3 = Conv2D(32,(3,3),strides=(2,2), padding='same')(vision2_con2d_r_2)\n",
        "vision4_con2d_r_4 = Activation('elu')(vision4_con2d_r_3)\n",
        "vision4_con2d_add = Add()([vision3_con2d_elu,vision4_con2d_r_4])\n",
        "vision4_con2d_elu = Activation('elu')(vision4_con2d_add)"
      ],
      "execution_count": 0,
      "outputs": []
    },
    {
      "cell_type": "code",
      "metadata": {
        "id": "-Y_PCM9yMpxH",
        "colab_type": "code",
        "colab": {}
      },
      "source": [
        "vision5_con2d_l_1 = Conv2D(48,(1,1),strides=(2,2), padding='valid')(vision4_con2d_elu)\n",
        "vision5_con2d_r_1 = Conv2D(48,(3,3),strides=(2,2), padding='same')(vision4_con2d_elu)\n",
        "vision5_con2d_r_2 = Activation('elu')(vision5_con2d_r_1)\n",
        "vision5_con2d_r_3 = Conv2D(48,(3,3),strides=(1,1), padding='same')(vision5_con2d_r_2)\n",
        "vision5_con2d_r_4 = Activation('elu')(vision5_con2d_r_3)\n",
        "vision5_con2d_add = Add()([vision5_con2d_l_1,vision5_con2d_r_4])\n",
        "vision5_con2d_elu = Activation('elu')(vision5_con2d_add)"
      ],
      "execution_count": 0,
      "outputs": []
    },
    {
      "cell_type": "code",
      "metadata": {
        "id": "0QfjvuQ8Mp73",
        "colab_type": "code",
        "colab": {}
      },
      "source": [
        "vision6_con2d_r_1 = Conv2D(48,(3,3),strides=(1,1), padding='same')(vision5_con2d_elu)\n",
        "vision6_con2d_r_2 = Activation('elu')(vision6_con2d_r_1)\n",
        "vision6_con2d_r_3 = Conv2D(48,(3,3),strides=(1,1), padding='same')(vision6_con2d_r_2)\n",
        "vision6_con2d_r_4 = Activation('elu')(vision6_con2d_r_3)\n",
        "vision6_con2d_add = Add()([vision5_con2d_elu,vision6_con2d_r_4])\n",
        "vision6_con2d_elu = Activation('elu')(vision6_con2d_add)"
      ],
      "execution_count": 0,
      "outputs": []
    },
    {
      "cell_type": "code",
      "metadata": {
        "id": "vuETktL5OAkK",
        "colab_type": "code",
        "colab": {}
      },
      "source": [
        "vision7_con2d_l_1 = Conv2D(64,(1,1),strides=(2,2), padding='valid')(vision6_con2d_elu)\n",
        "vision7_con2d_r_1 = Conv2D(64,(3,3),strides=(2,2), padding='same')(vision6_con2d_elu)\n",
        "vision7_con2d_r_2 = Activation('elu')(vision7_con2d_r_1)\n",
        "vision7_con2d_r_3 = Conv2D(64,(3,3),strides=(1,1), padding='same')(vision7_con2d_r_2)\n",
        "vision7_con2d_r_4 = Activation('elu')(vision7_con2d_r_3)\n",
        "vision7_con2d_add = Add()([vision7_con2d_l_1,vision7_con2d_r_4])\n",
        "vision7_con2d_elu = Activation('elu')(vision7_con2d_add)"
      ],
      "execution_count": 0,
      "outputs": []
    },
    {
      "cell_type": "code",
      "metadata": {
        "id": "1-GzlqTIOK_0",
        "colab_type": "code",
        "colab": {}
      },
      "source": [
        "vision8_con2d_r_1 = Conv2D(64,(3,3),strides=(1,1), padding='same')(vision7_con2d_elu)\n",
        "vision8_con2d_r_2 = Activation('elu')(vision6_con2d_r_1)\n",
        "vision8_con2d_r_3 = Conv2D(64,(3,3),strides=(2,2), padding='same')(vision8_con2d_r_2)\n",
        "vision8_con2d_r_4 = Activation('elu')(vision8_con2d_r_3)\n",
        "vision8_con2d_add = Add()([vision7_con2d_elu,vision8_con2d_r_4])\n",
        "vision8_con2d_elu = Activation('elu')(vision8_con2d_add)"
      ],
      "execution_count": 0,
      "outputs": []
    },
    {
      "cell_type": "code",
      "metadata": {
        "colab_type": "code",
        "id": "dgGGiorAOcOE",
        "colab": {}
      },
      "source": [
        "vision_conv2d_1 = Conv2D(128,(3,3),strides=(2,2), padding='same')(vision8_con2d_elu)\n",
        "\n",
        "vision_conv2d_2 = Conv2D(32,(1,1),strides=(1,1), padding='same')(vision_conv2d_1)\n",
        "flatten_2 = Flatten()(vision_conv2d_2)\n",
        "vision_dense2 = Dense(128)(flatten_2)\n",
        "\n",
        "vision_conv2d_3 = Conv2D(32,(1,1),strides=(1,1), padding='same')(vision_conv2d_1)\n",
        "flatten_3 = Flatten()(vision_conv2d_3)\n",
        "vision_dense3 = Dense(128)(flatten_3)\n",
        "\n",
        "vision_conv2d_4 = Conv2D(32,(1,1),strides=(1,1), padding='same')(vision_conv2d_1)\n",
        "flatten_4 = Flatten()(vision_conv2d_4)\n",
        "vision_dense4 = Dense(128)(flatten_4)\n",
        "\n",
        "vision_conv2d_5 = Conv2D(32,(1,1),strides=(1,1), padding='same')(vision_conv2d_1)\n",
        "flatten_5 = Flatten()(vision_conv2d_5)\n",
        "vision_dense5 = Dense(128)(flatten_5)\n",
        "\n"
      ],
      "execution_count": 0,
      "outputs": []
    },
    {
      "cell_type": "code",
      "metadata": {
        "id": "nlF6uvZH9FRj",
        "colab_type": "code",
        "outputId": "134aeeeb-49f9-4d54-fbcc-d8754696e869",
        "colab": {
          "base_uri": "https://localhost:8080/",
          "height": 35
        }
      },
      "source": [
        "vision_concatenate =  Concatenate(axis=1)([vision_dense2,vision_dense3,vision_dense4,vision_dense5])\n",
        "vision_batch = BatchNormalization(axis=1,center=False,scale=False)(vision_concatenate)\n",
        "vision_elu = Activation('elu')(vision_batch)\n",
        "dense = Dense(512)(vision_elu)\n",
        "elu_head = Activation('elu')(dense)\n",
        "elu_head"
      ],
      "execution_count": 0,
      "outputs": [
        {
          "output_type": "execute_result",
          "data": {
            "text/plain": [
              "<tf.Tensor 'activation_180/Elu:0' shape=(1, 512) dtype=float32>"
            ]
          },
          "metadata": {
            "tags": []
          },
          "execution_count": 109
        }
      ]
    },
    {
      "cell_type": "code",
      "metadata": {
        "id": "BtqgJRRLRZoS",
        "colab_type": "code",
        "colab": {}
      },
      "source": [
        "desire = Input(shape=(1,8))\n",
        "#desire1 = keras.backend.squeeze(desire,0)\n",
        "desire1 = Lambda(lambda x: squeeze(x, axis=0))(desire)\n",
        "\n",
        "snpe_desire = Dense(8)(desire1)\n",
        "proc_features = Concatenate(axis=1)([elu_head,snpe_desire])\n",
        "#proc_features = keras.backend.expand_dims(proc_features, axis=1)\n",
        "proc_features = Lambda(lambda x: expand_dims(x, axis=1))(proc_features)"
      ],
      "execution_count": 0,
      "outputs": []
    },
    {
      "cell_type": "code",
      "metadata": {
        "id": "wxqq7DTyPGUw",
        "colab_type": "code",
        "colab": {}
      },
      "source": [
        "rnn_state = Input(shape=(1,512))\n",
        "#rnn_state1 = keras.backend.squeeze(rnn_state,0)\n",
        "rnn_state1 = Lambda(lambda x: squeeze(x, axis=0))(rnn_state)\n",
        "\n",
        "#rnn_state2 = keras.backend.expand_dims(rnn_state1, axis=1)\n",
        "rnn_state2 = Lambda(lambda x: expand_dims(x, axis=1))(rnn_state1)\n",
        "rnn_rr = LSTM(512)(rnn_state2)\n",
        "rnn_rz = LSTM(512)(rnn_state2)\n",
        "snpe_ple = Dense(512)(rnn_state2)\n",
        "#snpe_ple1 = keras.backend.squeeze(snpe_ple,0)\n",
        "snpe_ple1 = Lambda(lambda x: squeeze(x, axis=0))(snpe_ple)\n",
        "\n",
        "rnn_r = LSTM(512)(proc_features)\n",
        "add_1 = Add()([rnn_r,rnn_rr])"
      ],
      "execution_count": 0,
      "outputs": []
    },
    {
      "cell_type": "code",
      "metadata": {
        "id": "jGLyTwz1QftR",
        "colab_type": "code",
        "colab": {}
      },
      "source": [
        "rnn_z = LSTM(512,return_sequences=False)(proc_features)\n",
        "add = Add()([rnn_z,rnn_rz])"
      ],
      "execution_count": 0,
      "outputs": []
    },
    {
      "cell_type": "code",
      "metadata": {
        "id": "3KZF9N08RAAZ",
        "colab_type": "code",
        "outputId": "8701cb2d-c7da-4639-9828-6d06f8fa0bb7",
        "colab": {
          "base_uri": "https://localhost:8080/",
          "height": 35
        }
      },
      "source": [
        "activation = Activation('sigmoid')(add_1)\n",
        "rnn_rh = LSTM(512)(snpe_ple)\n",
        "multiply = Multiply()([activation,rnn_rh])\n",
        "activation_1 = Activation('sigmoid')(add)\n",
        "multiply_1 = Multiply()([activation_1,snpe_ple1])\n",
        "rnn_h = LSTM(512)(proc_features)\n",
        "add_2 =  Add()([rnn_h,multiply_1])\n",
        "one_minus = Dense((512))(activation_1)\n",
        "activation_2 = Activation('tanh')(add_2)\n",
        "multiply_2 = Multiply()([activation_2,one_minus])\n",
        "add_3 = Add()([multiply_1,multiply_2])\n",
        "add_3"
      ],
      "execution_count": 0,
      "outputs": [
        {
          "output_type": "execute_result",
          "data": {
            "text/plain": [
              "<tf.Tensor 'add_57/add:0' shape=(1, 512) dtype=float32>"
            ]
          },
          "metadata": {
            "tags": []
          },
          "execution_count": 113
        }
      ]
    },
    {
      "cell_type": "code",
      "metadata": {
        "id": "Gfc6PhWnRKay",
        "colab_type": "code",
        "colab": {}
      },
      "source": [
        "dense_1_lead = Dense((256))(add_3)\n",
        "elu_1_lead = Activation('relu')(dense_1_lead)\n",
        "dense_2_lead = Dense((192))(elu_1_lead)\n",
        "elu_2_lead = Activation('relu')(dense_2_lead)\n",
        "dense_3_lead = Dense((128))(elu_2_lead)\n",
        "elu_3_lead = Activation('relu')(dense_3_lead)\n",
        "lead = Dense((58))(elu_3_lead)"
      ],
      "execution_count": 0,
      "outputs": []
    },
    {
      "cell_type": "code",
      "metadata": {
        "id": "7TUbTuE2RRSg",
        "colab_type": "code",
        "colab": {}
      },
      "source": [
        "dense_1_path = Dense((256))(add_3)\n",
        "elu_1_path = Activation('relu')(dense_1_path)\n",
        "dense_2_path = Dense((192))(elu_1_path)\n",
        "elu_2_path = Activation('relu')(dense_2_path)\n",
        "dense_3_path = Dense((128))(elu_2_path)\n",
        "elu_3_path = Activation('relu')(dense_3_path)\n",
        "path = Dense((384))(elu_3_path)"
      ],
      "execution_count": 0,
      "outputs": []
    },
    {
      "cell_type": "code",
      "metadata": {
        "id": "Z6mTqsVSRlVD",
        "colab_type": "code",
        "colab": {}
      },
      "source": [
        "dense_1_left_lane = Dense((256))(add_3)\n",
        "elu_1_left_lane = Activation('relu')(dense_1_left_lane)\n",
        "dense_2_left_lane = Dense((192))(elu_1_left_lane)\n",
        "elu_2_left_lane = Activation('relu')(dense_2_left_lane)\n",
        "dense_3_left_lane = Dense((128))(elu_2_left_lane)\n",
        "elu_3_left_lane = Activation('relu')(dense_3_left_lane)\n",
        "left_lane = Dense((385))(elu_3_left_lane)"
      ],
      "execution_count": 0,
      "outputs": []
    },
    {
      "cell_type": "code",
      "metadata": {
        "id": "KVkfJaddzcaj",
        "colab_type": "code",
        "outputId": "091f77e2-a661-40f7-b83e-eb35d61795a3",
        "colab": {
          "base_uri": "https://localhost:8080/",
          "height": 35
        }
      },
      "source": [
        "dense_1_right_lane = Dense((256))(add_3)\n",
        "elu_1_right_lane = Activation('relu')(dense_1_right_lane)\n",
        "dense_2_right_lane = Dense((192))(elu_1_right_lane)\n",
        "elu_2_right_lane = Activation('relu')(dense_2_right_lane)\n",
        "dense_3_right_lane = Dense((128))(elu_2_right_lane)\n",
        "elu_3_right_lane = Activation('relu')(dense_3_right_lane)\n",
        "right_lane = Dense((385))(elu_3_right_lane)\n",
        "right_lane"
      ],
      "execution_count": 0,
      "outputs": [
        {
          "output_type": "execute_result",
          "data": {
            "text/plain": [
              "<tf.Tensor 'dense_103/BiasAdd:0' shape=(1, 385) dtype=float32>"
            ]
          },
          "metadata": {
            "tags": []
          },
          "execution_count": 117
        }
      ]
    },
    {
      "cell_type": "code",
      "metadata": {
        "id": "iDDoVkxdztof",
        "colab_type": "code",
        "outputId": "9a3befb5-1d45-4843-8081-c02ef30f1ceb",
        "colab": {
          "base_uri": "https://localhost:8080/",
          "height": 35
        }
      },
      "source": [
        "output =  Concatenate(axis=1)([lead,path,left_lane,right_lane,add_3])\n",
        "output "
      ],
      "execution_count": 0,
      "outputs": [
        {
          "output_type": "execute_result",
          "data": {
            "text/plain": [
              "<tf.Tensor 'concatenate_14/concat:0' shape=(1, 1724) dtype=float32>"
            ]
          },
          "metadata": {
            "tags": []
          },
          "execution_count": 118
        }
      ]
    },
    {
      "cell_type": "code",
      "metadata": {
        "id": "lp3qdibb0ARF",
        "colab_type": "code",
        "colab": {}
      },
      "source": [
        "model = Model(inputs=[vision_lambda,desire,rnn_state], outputs= output)\n"
      ],
      "execution_count": 0,
      "outputs": []
    },
    {
      "cell_type": "code",
      "metadata": {
        "id": "mpZoYijNlTKB",
        "colab_type": "code",
        "outputId": "f894b561-ab31-4ae7-9e82-a0403c0fec8c",
        "colab": {
          "base_uri": "https://localhost:8080/",
          "height": 1000
        }
      },
      "source": [
        "model.summary()"
      ],
      "execution_count": 0,
      "outputs": [
        {
          "output_type": "stream",
          "text": [
            "Model: \"model_4\"\n",
            "__________________________________________________________________________________________________\n",
            "Layer (type)                    Output Shape         Param #     Connected to                     \n",
            "==================================================================================================\n",
            "input_13 (InputLayer)           (None, 1, 6, 128, 25 0                                            \n",
            "__________________________________________________________________________________________________\n",
            "lambda_25 (Lambda)              (1, 6, 128, 256)     0           input_13[0][0]                   \n",
            "__________________________________________________________________________________________________\n",
            "permute_5 (Permute)             (1, 128, 256, 6)     0           lambda_25[0][0]                  \n",
            "__________________________________________________________________________________________________\n",
            "conv2d_105 (Conv2D)             (1, 128, 256, 8)     1208        permute_5[0][0]                  \n",
            "__________________________________________________________________________________________________\n",
            "activation_154 (Activation)     (1, 128, 256, 8)     0           conv2d_105[0][0]                 \n",
            "__________________________________________________________________________________________________\n",
            "average_pooling2d_5 (AveragePoo (1, 64, 128, 8)      0           activation_154[0][0]             \n",
            "__________________________________________________________________________________________________\n",
            "conv2d_107 (Conv2D)             (1, 64, 128, 16)     1168        average_pooling2d_5[0][0]        \n",
            "__________________________________________________________________________________________________\n",
            "activation_155 (Activation)     (1, 64, 128, 16)     0           conv2d_107[0][0]                 \n",
            "__________________________________________________________________________________________________\n",
            "conv2d_108 (Conv2D)             (1, 64, 128, 16)     2320        activation_155[0][0]             \n",
            "__________________________________________________________________________________________________\n",
            "conv2d_106 (Conv2D)             (1, 64, 128, 16)     144         average_pooling2d_5[0][0]        \n",
            "__________________________________________________________________________________________________\n",
            "activation_156 (Activation)     (1, 64, 128, 16)     0           conv2d_108[0][0]                 \n",
            "__________________________________________________________________________________________________\n",
            "add_46 (Add)                    (1, 64, 128, 16)     0           conv2d_106[0][0]                 \n",
            "                                                                 activation_156[0][0]             \n",
            "__________________________________________________________________________________________________\n",
            "activation_157 (Activation)     (1, 64, 128, 16)     0           add_46[0][0]                     \n",
            "__________________________________________________________________________________________________\n",
            "conv2d_109 (Conv2D)             (1, 64, 128, 16)     2320        activation_157[0][0]             \n",
            "__________________________________________________________________________________________________\n",
            "activation_158 (Activation)     (1, 64, 128, 16)     0           conv2d_109[0][0]                 \n",
            "__________________________________________________________________________________________________\n",
            "conv2d_110 (Conv2D)             (1, 64, 128, 16)     2320        activation_158[0][0]             \n",
            "__________________________________________________________________________________________________\n",
            "activation_159 (Activation)     (1, 64, 128, 16)     0           conv2d_110[0][0]                 \n",
            "__________________________________________________________________________________________________\n",
            "add_47 (Add)                    (1, 64, 128, 16)     0           activation_157[0][0]             \n",
            "                                                                 activation_159[0][0]             \n",
            "__________________________________________________________________________________________________\n",
            "activation_160 (Activation)     (1, 64, 128, 16)     0           add_47[0][0]                     \n",
            "__________________________________________________________________________________________________\n",
            "conv2d_112 (Conv2D)             (1, 32, 64, 32)      4640        activation_160[0][0]             \n",
            "__________________________________________________________________________________________________\n",
            "activation_161 (Activation)     (1, 32, 64, 32)      0           conv2d_112[0][0]                 \n",
            "__________________________________________________________________________________________________\n",
            "conv2d_113 (Conv2D)             (1, 32, 64, 32)      9248        activation_161[0][0]             \n",
            "__________________________________________________________________________________________________\n",
            "conv2d_111 (Conv2D)             (1, 32, 64, 32)      544         activation_160[0][0]             \n",
            "__________________________________________________________________________________________________\n",
            "activation_162 (Activation)     (1, 32, 64, 32)      0           conv2d_113[0][0]                 \n",
            "__________________________________________________________________________________________________\n",
            "add_48 (Add)                    (1, 32, 64, 32)      0           conv2d_111[0][0]                 \n",
            "                                                                 activation_162[0][0]             \n",
            "__________________________________________________________________________________________________\n",
            "conv2d_115 (Conv2D)             (1, 32, 64, 32)      4640        activation_158[0][0]             \n",
            "__________________________________________________________________________________________________\n",
            "activation_163 (Activation)     (1, 32, 64, 32)      0           add_48[0][0]                     \n",
            "__________________________________________________________________________________________________\n",
            "activation_165 (Activation)     (1, 32, 64, 32)      0           conv2d_115[0][0]                 \n",
            "__________________________________________________________________________________________________\n",
            "add_49 (Add)                    (1, 32, 64, 32)      0           activation_163[0][0]             \n",
            "                                                                 activation_165[0][0]             \n",
            "__________________________________________________________________________________________________\n",
            "activation_166 (Activation)     (1, 32, 64, 32)      0           add_49[0][0]                     \n",
            "__________________________________________________________________________________________________\n",
            "conv2d_117 (Conv2D)             (1, 16, 32, 48)      13872       activation_166[0][0]             \n",
            "__________________________________________________________________________________________________\n",
            "activation_167 (Activation)     (1, 16, 32, 48)      0           conv2d_117[0][0]                 \n",
            "__________________________________________________________________________________________________\n",
            "conv2d_118 (Conv2D)             (1, 16, 32, 48)      20784       activation_167[0][0]             \n",
            "__________________________________________________________________________________________________\n",
            "conv2d_116 (Conv2D)             (1, 16, 32, 48)      1584        activation_166[0][0]             \n",
            "__________________________________________________________________________________________________\n",
            "activation_168 (Activation)     (1, 16, 32, 48)      0           conv2d_118[0][0]                 \n",
            "__________________________________________________________________________________________________\n",
            "add_50 (Add)                    (1, 16, 32, 48)      0           conv2d_116[0][0]                 \n",
            "                                                                 activation_168[0][0]             \n",
            "__________________________________________________________________________________________________\n",
            "activation_169 (Activation)     (1, 16, 32, 48)      0           add_50[0][0]                     \n",
            "__________________________________________________________________________________________________\n",
            "conv2d_119 (Conv2D)             (1, 16, 32, 48)      20784       activation_169[0][0]             \n",
            "__________________________________________________________________________________________________\n",
            "activation_170 (Activation)     (1, 16, 32, 48)      0           conv2d_119[0][0]                 \n",
            "__________________________________________________________________________________________________\n",
            "conv2d_120 (Conv2D)             (1, 16, 32, 48)      20784       activation_170[0][0]             \n",
            "__________________________________________________________________________________________________\n",
            "activation_171 (Activation)     (1, 16, 32, 48)      0           conv2d_120[0][0]                 \n",
            "__________________________________________________________________________________________________\n",
            "add_51 (Add)                    (1, 16, 32, 48)      0           activation_169[0][0]             \n",
            "                                                                 activation_171[0][0]             \n",
            "__________________________________________________________________________________________________\n",
            "activation_172 (Activation)     (1, 16, 32, 48)      0           add_51[0][0]                     \n",
            "__________________________________________________________________________________________________\n",
            "conv2d_122 (Conv2D)             (1, 8, 16, 64)       27712       activation_172[0][0]             \n",
            "__________________________________________________________________________________________________\n",
            "activation_173 (Activation)     (1, 8, 16, 64)       0           conv2d_122[0][0]                 \n",
            "__________________________________________________________________________________________________\n",
            "conv2d_123 (Conv2D)             (1, 8, 16, 64)       36928       activation_173[0][0]             \n",
            "__________________________________________________________________________________________________\n",
            "conv2d_121 (Conv2D)             (1, 8, 16, 64)       3136        activation_172[0][0]             \n",
            "__________________________________________________________________________________________________\n",
            "activation_174 (Activation)     (1, 8, 16, 64)       0           conv2d_123[0][0]                 \n",
            "__________________________________________________________________________________________________\n",
            "activation_176 (Activation)     (1, 16, 32, 48)      0           conv2d_119[0][0]                 \n",
            "__________________________________________________________________________________________________\n",
            "add_52 (Add)                    (1, 8, 16, 64)       0           conv2d_121[0][0]                 \n",
            "                                                                 activation_174[0][0]             \n",
            "__________________________________________________________________________________________________\n",
            "conv2d_125 (Conv2D)             (1, 8, 16, 64)       27712       activation_176[0][0]             \n",
            "__________________________________________________________________________________________________\n",
            "activation_175 (Activation)     (1, 8, 16, 64)       0           add_52[0][0]                     \n",
            "__________________________________________________________________________________________________\n",
            "activation_177 (Activation)     (1, 8, 16, 64)       0           conv2d_125[0][0]                 \n",
            "__________________________________________________________________________________________________\n",
            "add_53 (Add)                    (1, 8, 16, 64)       0           activation_175[0][0]             \n",
            "                                                                 activation_177[0][0]             \n",
            "__________________________________________________________________________________________________\n",
            "activation_178 (Activation)     (1, 8, 16, 64)       0           add_53[0][0]                     \n",
            "__________________________________________________________________________________________________\n",
            "conv2d_126 (Conv2D)             (1, 4, 8, 128)       73856       activation_178[0][0]             \n",
            "__________________________________________________________________________________________________\n",
            "conv2d_127 (Conv2D)             (1, 4, 8, 32)        4128        conv2d_126[0][0]                 \n",
            "__________________________________________________________________________________________________\n",
            "conv2d_128 (Conv2D)             (1, 4, 8, 32)        4128        conv2d_126[0][0]                 \n",
            "__________________________________________________________________________________________________\n",
            "conv2d_129 (Conv2D)             (1, 4, 8, 32)        4128        conv2d_126[0][0]                 \n",
            "__________________________________________________________________________________________________\n",
            "conv2d_130 (Conv2D)             (1, 4, 8, 32)        4128        conv2d_126[0][0]                 \n",
            "__________________________________________________________________________________________________\n",
            "flatten_17 (Flatten)            (1, 1024)            0           conv2d_127[0][0]                 \n",
            "__________________________________________________________________________________________________\n",
            "flatten_18 (Flatten)            (1, 1024)            0           conv2d_128[0][0]                 \n",
            "__________________________________________________________________________________________________\n",
            "flatten_19 (Flatten)            (1, 1024)            0           conv2d_129[0][0]                 \n",
            "__________________________________________________________________________________________________\n",
            "flatten_20 (Flatten)            (1, 1024)            0           conv2d_130[0][0]                 \n",
            "__________________________________________________________________________________________________\n",
            "dense_80 (Dense)                (1, 128)             131200      flatten_17[0][0]                 \n",
            "__________________________________________________________________________________________________\n",
            "dense_81 (Dense)                (1, 128)             131200      flatten_18[0][0]                 \n",
            "__________________________________________________________________________________________________\n",
            "dense_82 (Dense)                (1, 128)             131200      flatten_19[0][0]                 \n",
            "__________________________________________________________________________________________________\n",
            "dense_83 (Dense)                (1, 128)             131200      flatten_20[0][0]                 \n",
            "__________________________________________________________________________________________________\n",
            "concatenate_12 (Concatenate)    (1, 512)             0           dense_80[0][0]                   \n",
            "                                                                 dense_81[0][0]                   \n",
            "                                                                 dense_82[0][0]                   \n",
            "                                                                 dense_83[0][0]                   \n",
            "__________________________________________________________________________________________________\n",
            "batch_normalization_5 (BatchNor (1, 512)             1024        concatenate_12[0][0]             \n",
            "__________________________________________________________________________________________________\n",
            "activation_179 (Activation)     (1, 512)             0           batch_normalization_5[0][0]      \n",
            "__________________________________________________________________________________________________\n",
            "input_14 (InputLayer)           (None, 1, 8)         0                                            \n",
            "__________________________________________________________________________________________________\n",
            "dense_84 (Dense)                (1, 512)             262656      activation_179[0][0]             \n",
            "__________________________________________________________________________________________________\n",
            "lambda_26 (Lambda)              (1, 8)               0           input_14[0][0]                   \n",
            "__________________________________________________________________________________________________\n",
            "activation_180 (Activation)     (1, 512)             0           dense_84[0][0]                   \n",
            "__________________________________________________________________________________________________\n",
            "dense_85 (Dense)                (1, 8)               72          lambda_26[0][0]                  \n",
            "__________________________________________________________________________________________________\n",
            "input_15 (InputLayer)           (None, 1, 512)       0                                            \n",
            "__________________________________________________________________________________________________\n",
            "concatenate_13 (Concatenate)    (1, 520)             0           activation_180[0][0]             \n",
            "                                                                 dense_85[0][0]                   \n",
            "__________________________________________________________________________________________________\n",
            "lambda_28 (Lambda)              (1, 512)             0           input_15[0][0]                   \n",
            "__________________________________________________________________________________________________\n",
            "lambda_27 (Lambda)              (1, 1, 520)          0           concatenate_13[0][0]             \n",
            "__________________________________________________________________________________________________\n",
            "lambda_29 (Lambda)              (1, 1, 512)          0           lambda_28[0][0]                  \n",
            "__________________________________________________________________________________________________\n",
            "lstm_25 (LSTM)                  (1, 512)             2115584     lambda_27[0][0]                  \n",
            "__________________________________________________________________________________________________\n",
            "lstm_23 (LSTM)                  (1, 512)             2099200     lambda_29[0][0]                  \n",
            "__________________________________________________________________________________________________\n",
            "add_55 (Add)                    (1, 512)             0           lstm_25[0][0]                    \n",
            "                                                                 lstm_23[0][0]                    \n",
            "__________________________________________________________________________________________________\n",
            "dense_86 (Dense)                (1, 1, 512)          262656      lambda_29[0][0]                  \n",
            "__________________________________________________________________________________________________\n",
            "activation_182 (Activation)     (1, 512)             0           add_55[0][0]                     \n",
            "__________________________________________________________________________________________________\n",
            "lambda_30 (Lambda)              (1, 512)             0           dense_86[0][0]                   \n",
            "__________________________________________________________________________________________________\n",
            "multiply_11 (Multiply)          (1, 512)             0           activation_182[0][0]             \n",
            "                                                                 lambda_30[0][0]                  \n",
            "__________________________________________________________________________________________________\n",
            "lstm_27 (LSTM)                  (1, 512)             2115584     lambda_27[0][0]                  \n",
            "__________________________________________________________________________________________________\n",
            "add_56 (Add)                    (1, 512)             0           lstm_27[0][0]                    \n",
            "                                                                 multiply_11[0][0]                \n",
            "__________________________________________________________________________________________________\n",
            "activation_183 (Activation)     (1, 512)             0           add_56[0][0]                     \n",
            "__________________________________________________________________________________________________\n",
            "dense_87 (Dense)                (1, 512)             262656      activation_182[0][0]             \n",
            "__________________________________________________________________________________________________\n",
            "multiply_12 (Multiply)          (1, 512)             0           activation_183[0][0]             \n",
            "                                                                 dense_87[0][0]                   \n",
            "__________________________________________________________________________________________________\n",
            "add_57 (Add)                    (1, 512)             0           multiply_11[0][0]                \n",
            "                                                                 multiply_12[0][0]                \n",
            "__________________________________________________________________________________________________\n",
            "dense_88 (Dense)                (1, 256)             131328      add_57[0][0]                     \n",
            "__________________________________________________________________________________________________\n",
            "dense_92 (Dense)                (1, 256)             131328      add_57[0][0]                     \n",
            "__________________________________________________________________________________________________\n",
            "dense_96 (Dense)                (1, 256)             131328      add_57[0][0]                     \n",
            "__________________________________________________________________________________________________\n",
            "dense_100 (Dense)               (1, 256)             131328      add_57[0][0]                     \n",
            "__________________________________________________________________________________________________\n",
            "activation_184 (Activation)     (1, 256)             0           dense_88[0][0]                   \n",
            "__________________________________________________________________________________________________\n",
            "activation_187 (Activation)     (1, 256)             0           dense_92[0][0]                   \n",
            "__________________________________________________________________________________________________\n",
            "activation_190 (Activation)     (1, 256)             0           dense_96[0][0]                   \n",
            "__________________________________________________________________________________________________\n",
            "activation_193 (Activation)     (1, 256)             0           dense_100[0][0]                  \n",
            "__________________________________________________________________________________________________\n",
            "dense_89 (Dense)                (1, 192)             49344       activation_184[0][0]             \n",
            "__________________________________________________________________________________________________\n",
            "dense_93 (Dense)                (1, 192)             49344       activation_187[0][0]             \n",
            "__________________________________________________________________________________________________\n",
            "dense_97 (Dense)                (1, 192)             49344       activation_190[0][0]             \n",
            "__________________________________________________________________________________________________\n",
            "dense_101 (Dense)               (1, 192)             49344       activation_193[0][0]             \n",
            "__________________________________________________________________________________________________\n",
            "activation_185 (Activation)     (1, 192)             0           dense_89[0][0]                   \n",
            "__________________________________________________________________________________________________\n",
            "activation_188 (Activation)     (1, 192)             0           dense_93[0][0]                   \n",
            "__________________________________________________________________________________________________\n",
            "activation_191 (Activation)     (1, 192)             0           dense_97[0][0]                   \n",
            "__________________________________________________________________________________________________\n",
            "activation_194 (Activation)     (1, 192)             0           dense_101[0][0]                  \n",
            "__________________________________________________________________________________________________\n",
            "dense_90 (Dense)                (1, 128)             24704       activation_185[0][0]             \n",
            "__________________________________________________________________________________________________\n",
            "dense_94 (Dense)                (1, 128)             24704       activation_188[0][0]             \n",
            "__________________________________________________________________________________________________\n",
            "dense_98 (Dense)                (1, 128)             24704       activation_191[0][0]             \n",
            "__________________________________________________________________________________________________\n",
            "dense_102 (Dense)               (1, 128)             24704       activation_194[0][0]             \n",
            "__________________________________________________________________________________________________\n",
            "activation_186 (Activation)     (1, 128)             0           dense_90[0][0]                   \n",
            "__________________________________________________________________________________________________\n",
            "activation_189 (Activation)     (1, 128)             0           dense_94[0][0]                   \n",
            "__________________________________________________________________________________________________\n",
            "activation_192 (Activation)     (1, 128)             0           dense_98[0][0]                   \n",
            "__________________________________________________________________________________________________\n",
            "activation_195 (Activation)     (1, 128)             0           dense_102[0][0]                  \n",
            "__________________________________________________________________________________________________\n",
            "dense_91 (Dense)                (1, 58)              7482        activation_186[0][0]             \n",
            "__________________________________________________________________________________________________\n",
            "dense_95 (Dense)                (1, 384)             49536       activation_189[0][0]             \n",
            "__________________________________________________________________________________________________\n",
            "dense_99 (Dense)                (1, 385)             49665       activation_192[0][0]             \n",
            "__________________________________________________________________________________________________\n",
            "dense_103 (Dense)               (1, 385)             49665       activation_195[0][0]             \n",
            "__________________________________________________________________________________________________\n",
            "concatenate_14 (Concatenate)    (1, 1724)            0           dense_91[0][0]                   \n",
            "                                                                 dense_95[0][0]                   \n",
            "                                                                 dense_99[0][0]                   \n",
            "                                                                 dense_103[0][0]                  \n",
            "                                                                 add_57[0][0]                     \n",
            "==================================================================================================\n",
            "Total params: 8,914,300\n",
            "Trainable params: 8,913,276\n",
            "Non-trainable params: 1,024\n",
            "__________________________________________________________________________________________________\n"
          ],
          "name": "stdout"
        }
      ]
    },
    {
      "cell_type": "code",
      "metadata": {
        "id": "q124XicMQaem",
        "colab_type": "code",
        "outputId": "012bd86b-fd41-43c9-f345-f1ac2f962227",
        "colab": {
          "base_uri": "https://localhost:8080/",
          "height": 337
        }
      },
      "source": [
        "model.save('custom_model.h5py')"
      ],
      "execution_count": 0,
      "outputs": [
        {
          "output_type": "error",
          "ename": "TypeError",
          "evalue": "ignored",
          "traceback": [
            "\u001b[0;31m---------------------------------------------------------------------------\u001b[0m",
            "\u001b[0;31mTypeError\u001b[0m                                 Traceback (most recent call last)",
            "\u001b[0;32m<ipython-input-134-345451727583>\u001b[0m in \u001b[0;36m<module>\u001b[0;34m()\u001b[0m\n\u001b[0;32m----> 1\u001b[0;31m \u001b[0mmodel\u001b[0m\u001b[0;34m.\u001b[0m\u001b[0msave\u001b[0m\u001b[0;34m(\u001b[0m\u001b[0;34m'custom_model.h5py'\u001b[0m\u001b[0;34m)\u001b[0m\u001b[0;34m\u001b[0m\u001b[0;34m\u001b[0m\u001b[0m\n\u001b[0m\u001b[1;32m      2\u001b[0m \u001b[0;34m\u001b[0m\u001b[0m\n",
            "\u001b[0;32m/usr/local/lib/python3.6/dist-packages/keras/engine/network.py\u001b[0m in \u001b[0;36msave\u001b[0;34m(self, filepath, overwrite, include_optimizer)\u001b[0m\n\u001b[1;32m   1137\u001b[0m             \u001b[0;32mraise\u001b[0m \u001b[0mNotImplementedError\u001b[0m\u001b[0;34m\u001b[0m\u001b[0;34m\u001b[0m\u001b[0m\n\u001b[1;32m   1138\u001b[0m         \u001b[0;32mfrom\u001b[0m \u001b[0;34m.\u001b[0m\u001b[0;34m.\u001b[0m\u001b[0mmodels\u001b[0m \u001b[0;32mimport\u001b[0m \u001b[0msave_model\u001b[0m\u001b[0;34m\u001b[0m\u001b[0;34m\u001b[0m\u001b[0m\n\u001b[0;32m-> 1139\u001b[0;31m         \u001b[0msave_model\u001b[0m\u001b[0;34m(\u001b[0m\u001b[0mself\u001b[0m\u001b[0;34m,\u001b[0m \u001b[0mfilepath\u001b[0m\u001b[0;34m,\u001b[0m \u001b[0moverwrite\u001b[0m\u001b[0;34m,\u001b[0m \u001b[0minclude_optimizer\u001b[0m\u001b[0;34m)\u001b[0m\u001b[0;34m\u001b[0m\u001b[0;34m\u001b[0m\u001b[0m\n\u001b[0m\u001b[1;32m   1140\u001b[0m \u001b[0;34m\u001b[0m\u001b[0m\n\u001b[1;32m   1141\u001b[0m     \u001b[0;34m@\u001b[0m\u001b[0msaving\u001b[0m\u001b[0;34m.\u001b[0m\u001b[0mallow_write_to_gcs\u001b[0m\u001b[0;34m\u001b[0m\u001b[0;34m\u001b[0m\u001b[0m\n",
            "\u001b[0;32m/usr/local/lib/python3.6/dist-packages/keras/engine/saving.py\u001b[0m in \u001b[0;36msave_wrapper\u001b[0;34m(obj, filepath, overwrite, *args, **kwargs)\u001b[0m\n\u001b[1;32m    413\u001b[0m                 \u001b[0mos\u001b[0m\u001b[0;34m.\u001b[0m\u001b[0mremove\u001b[0m\u001b[0;34m(\u001b[0m\u001b[0mtmp_filepath\u001b[0m\u001b[0;34m)\u001b[0m\u001b[0;34m\u001b[0m\u001b[0;34m\u001b[0m\u001b[0m\n\u001b[1;32m    414\u001b[0m         \u001b[0;32melse\u001b[0m\u001b[0;34m:\u001b[0m\u001b[0;34m\u001b[0m\u001b[0;34m\u001b[0m\u001b[0m\n\u001b[0;32m--> 415\u001b[0;31m             \u001b[0msave_function\u001b[0m\u001b[0;34m(\u001b[0m\u001b[0mobj\u001b[0m\u001b[0;34m,\u001b[0m \u001b[0mfilepath\u001b[0m\u001b[0;34m,\u001b[0m \u001b[0moverwrite\u001b[0m\u001b[0;34m,\u001b[0m \u001b[0;34m*\u001b[0m\u001b[0margs\u001b[0m\u001b[0;34m,\u001b[0m \u001b[0;34m**\u001b[0m\u001b[0mkwargs\u001b[0m\u001b[0;34m)\u001b[0m\u001b[0;34m\u001b[0m\u001b[0;34m\u001b[0m\u001b[0m\n\u001b[0m\u001b[1;32m    416\u001b[0m \u001b[0;34m\u001b[0m\u001b[0m\n\u001b[1;32m    417\u001b[0m     \u001b[0;32mreturn\u001b[0m \u001b[0msave_wrapper\u001b[0m\u001b[0;34m\u001b[0m\u001b[0;34m\u001b[0m\u001b[0m\n",
            "\u001b[0;32m/usr/local/lib/python3.6/dist-packages/keras/engine/saving.py\u001b[0m in \u001b[0;36msave_model\u001b[0;34m(model, filepath, overwrite, include_optimizer)\u001b[0m\n\u001b[1;32m    505\u001b[0m                 \u001b[0;32mreturn\u001b[0m\u001b[0;34m\u001b[0m\u001b[0;34m\u001b[0m\u001b[0m\n\u001b[1;32m    506\u001b[0m         \u001b[0;32mwith\u001b[0m \u001b[0mH5Dict\u001b[0m\u001b[0;34m(\u001b[0m\u001b[0mfilepath\u001b[0m\u001b[0;34m,\u001b[0m \u001b[0mmode\u001b[0m\u001b[0;34m=\u001b[0m\u001b[0;34m'w'\u001b[0m\u001b[0;34m)\u001b[0m \u001b[0;32mas\u001b[0m \u001b[0mh5dict\u001b[0m\u001b[0;34m:\u001b[0m\u001b[0;34m\u001b[0m\u001b[0;34m\u001b[0m\u001b[0m\n\u001b[0;32m--> 507\u001b[0;31m             \u001b[0m_serialize_model\u001b[0m\u001b[0;34m(\u001b[0m\u001b[0mmodel\u001b[0m\u001b[0;34m,\u001b[0m \u001b[0mh5dict\u001b[0m\u001b[0;34m,\u001b[0m \u001b[0minclude_optimizer\u001b[0m\u001b[0;34m)\u001b[0m\u001b[0;34m\u001b[0m\u001b[0;34m\u001b[0m\u001b[0m\n\u001b[0m\u001b[1;32m    508\u001b[0m     \u001b[0;32melif\u001b[0m \u001b[0mhasattr\u001b[0m\u001b[0;34m(\u001b[0m\u001b[0mfilepath\u001b[0m\u001b[0;34m,\u001b[0m \u001b[0;34m'write'\u001b[0m\u001b[0;34m)\u001b[0m \u001b[0;32mand\u001b[0m \u001b[0mcallable\u001b[0m\u001b[0;34m(\u001b[0m\u001b[0mfilepath\u001b[0m\u001b[0;34m.\u001b[0m\u001b[0mwrite\u001b[0m\u001b[0;34m)\u001b[0m\u001b[0;34m:\u001b[0m\u001b[0;34m\u001b[0m\u001b[0;34m\u001b[0m\u001b[0m\n\u001b[1;32m    509\u001b[0m         \u001b[0;31m# write as binary stream\u001b[0m\u001b[0;34m\u001b[0m\u001b[0;34m\u001b[0m\u001b[0;34m\u001b[0m\u001b[0m\n",
            "\u001b[0;32m/usr/local/lib/python3.6/dist-packages/keras/engine/saving.py\u001b[0m in \u001b[0;36m_serialize_model\u001b[0;34m(model, h5dict, include_optimizer)\u001b[0m\n\u001b[1;32m     99\u001b[0m     \u001b[0mmodel_config\u001b[0m\u001b[0;34m[\u001b[0m\u001b[0;34m'class_name'\u001b[0m\u001b[0;34m]\u001b[0m \u001b[0;34m=\u001b[0m \u001b[0mmodel\u001b[0m\u001b[0;34m.\u001b[0m\u001b[0m__class__\u001b[0m\u001b[0;34m.\u001b[0m\u001b[0m__name__\u001b[0m\u001b[0;34m\u001b[0m\u001b[0;34m\u001b[0m\u001b[0m\n\u001b[1;32m    100\u001b[0m     \u001b[0mmodel_config\u001b[0m\u001b[0;34m[\u001b[0m\u001b[0;34m'config'\u001b[0m\u001b[0;34m]\u001b[0m \u001b[0;34m=\u001b[0m \u001b[0mmodel\u001b[0m\u001b[0;34m.\u001b[0m\u001b[0mget_config\u001b[0m\u001b[0;34m(\u001b[0m\u001b[0;34m)\u001b[0m\u001b[0;34m\u001b[0m\u001b[0;34m\u001b[0m\u001b[0m\n\u001b[0;32m--> 101\u001b[0;31m     \u001b[0mmodel_config\u001b[0m \u001b[0;34m=\u001b[0m \u001b[0mjson\u001b[0m\u001b[0;34m.\u001b[0m\u001b[0mdumps\u001b[0m\u001b[0;34m(\u001b[0m\u001b[0mmodel_config\u001b[0m\u001b[0;34m,\u001b[0m \u001b[0mdefault\u001b[0m\u001b[0;34m=\u001b[0m\u001b[0mget_json_type\u001b[0m\u001b[0;34m)\u001b[0m\u001b[0;34m\u001b[0m\u001b[0;34m\u001b[0m\u001b[0m\n\u001b[0m\u001b[1;32m    102\u001b[0m     \u001b[0mmodel_config\u001b[0m \u001b[0;34m=\u001b[0m \u001b[0mmodel_config\u001b[0m\u001b[0;34m.\u001b[0m\u001b[0mencode\u001b[0m\u001b[0;34m(\u001b[0m\u001b[0;34m'utf-8'\u001b[0m\u001b[0;34m)\u001b[0m\u001b[0;34m\u001b[0m\u001b[0;34m\u001b[0m\u001b[0m\n\u001b[1;32m    103\u001b[0m     \u001b[0mh5dict\u001b[0m\u001b[0;34m[\u001b[0m\u001b[0;34m'model_config'\u001b[0m\u001b[0;34m]\u001b[0m \u001b[0;34m=\u001b[0m \u001b[0mmodel_config\u001b[0m\u001b[0;34m\u001b[0m\u001b[0;34m\u001b[0m\u001b[0m\n",
            "\u001b[0;32m/usr/lib/python3.6/json/__init__.py\u001b[0m in \u001b[0;36mdumps\u001b[0;34m(obj, skipkeys, ensure_ascii, check_circular, allow_nan, cls, indent, separators, default, sort_keys, **kw)\u001b[0m\n\u001b[1;32m    236\u001b[0m         \u001b[0mcheck_circular\u001b[0m\u001b[0;34m=\u001b[0m\u001b[0mcheck_circular\u001b[0m\u001b[0;34m,\u001b[0m \u001b[0mallow_nan\u001b[0m\u001b[0;34m=\u001b[0m\u001b[0mallow_nan\u001b[0m\u001b[0;34m,\u001b[0m \u001b[0mindent\u001b[0m\u001b[0;34m=\u001b[0m\u001b[0mindent\u001b[0m\u001b[0;34m,\u001b[0m\u001b[0;34m\u001b[0m\u001b[0;34m\u001b[0m\u001b[0m\n\u001b[1;32m    237\u001b[0m         \u001b[0mseparators\u001b[0m\u001b[0;34m=\u001b[0m\u001b[0mseparators\u001b[0m\u001b[0;34m,\u001b[0m \u001b[0mdefault\u001b[0m\u001b[0;34m=\u001b[0m\u001b[0mdefault\u001b[0m\u001b[0;34m,\u001b[0m \u001b[0msort_keys\u001b[0m\u001b[0;34m=\u001b[0m\u001b[0msort_keys\u001b[0m\u001b[0;34m,\u001b[0m\u001b[0;34m\u001b[0m\u001b[0;34m\u001b[0m\u001b[0m\n\u001b[0;32m--> 238\u001b[0;31m         **kw).encode(obj)\n\u001b[0m\u001b[1;32m    239\u001b[0m \u001b[0;34m\u001b[0m\u001b[0m\n\u001b[1;32m    240\u001b[0m \u001b[0;34m\u001b[0m\u001b[0m\n",
            "\u001b[0;32m/usr/lib/python3.6/json/encoder.py\u001b[0m in \u001b[0;36mencode\u001b[0;34m(self, o)\u001b[0m\n\u001b[1;32m    197\u001b[0m         \u001b[0;31m# exceptions aren't as detailed.  The list call should be roughly\u001b[0m\u001b[0;34m\u001b[0m\u001b[0;34m\u001b[0m\u001b[0;34m\u001b[0m\u001b[0m\n\u001b[1;32m    198\u001b[0m         \u001b[0;31m# equivalent to the PySequence_Fast that ''.join() would do.\u001b[0m\u001b[0;34m\u001b[0m\u001b[0;34m\u001b[0m\u001b[0;34m\u001b[0m\u001b[0m\n\u001b[0;32m--> 199\u001b[0;31m         \u001b[0mchunks\u001b[0m \u001b[0;34m=\u001b[0m \u001b[0mself\u001b[0m\u001b[0;34m.\u001b[0m\u001b[0miterencode\u001b[0m\u001b[0;34m(\u001b[0m\u001b[0mo\u001b[0m\u001b[0;34m,\u001b[0m \u001b[0m_one_shot\u001b[0m\u001b[0;34m=\u001b[0m\u001b[0;32mTrue\u001b[0m\u001b[0;34m)\u001b[0m\u001b[0;34m\u001b[0m\u001b[0;34m\u001b[0m\u001b[0m\n\u001b[0m\u001b[1;32m    200\u001b[0m         \u001b[0;32mif\u001b[0m \u001b[0;32mnot\u001b[0m \u001b[0misinstance\u001b[0m\u001b[0;34m(\u001b[0m\u001b[0mchunks\u001b[0m\u001b[0;34m,\u001b[0m \u001b[0;34m(\u001b[0m\u001b[0mlist\u001b[0m\u001b[0;34m,\u001b[0m \u001b[0mtuple\u001b[0m\u001b[0;34m)\u001b[0m\u001b[0;34m)\u001b[0m\u001b[0;34m:\u001b[0m\u001b[0;34m\u001b[0m\u001b[0;34m\u001b[0m\u001b[0m\n\u001b[1;32m    201\u001b[0m             \u001b[0mchunks\u001b[0m \u001b[0;34m=\u001b[0m \u001b[0mlist\u001b[0m\u001b[0;34m(\u001b[0m\u001b[0mchunks\u001b[0m\u001b[0;34m)\u001b[0m\u001b[0;34m\u001b[0m\u001b[0;34m\u001b[0m\u001b[0m\n",
            "\u001b[0;32m/usr/lib/python3.6/json/encoder.py\u001b[0m in \u001b[0;36miterencode\u001b[0;34m(self, o, _one_shot)\u001b[0m\n\u001b[1;32m    255\u001b[0m                 \u001b[0mself\u001b[0m\u001b[0;34m.\u001b[0m\u001b[0mkey_separator\u001b[0m\u001b[0;34m,\u001b[0m \u001b[0mself\u001b[0m\u001b[0;34m.\u001b[0m\u001b[0mitem_separator\u001b[0m\u001b[0;34m,\u001b[0m \u001b[0mself\u001b[0m\u001b[0;34m.\u001b[0m\u001b[0msort_keys\u001b[0m\u001b[0;34m,\u001b[0m\u001b[0;34m\u001b[0m\u001b[0;34m\u001b[0m\u001b[0m\n\u001b[1;32m    256\u001b[0m                 self.skipkeys, _one_shot)\n\u001b[0;32m--> 257\u001b[0;31m         \u001b[0;32mreturn\u001b[0m \u001b[0m_iterencode\u001b[0m\u001b[0;34m(\u001b[0m\u001b[0mo\u001b[0m\u001b[0;34m,\u001b[0m \u001b[0;36m0\u001b[0m\u001b[0;34m)\u001b[0m\u001b[0;34m\u001b[0m\u001b[0;34m\u001b[0m\u001b[0m\n\u001b[0m\u001b[1;32m    258\u001b[0m \u001b[0;34m\u001b[0m\u001b[0m\n\u001b[1;32m    259\u001b[0m def _make_iterencode(markers, _default, _encoder, _indent, _floatstr,\n",
            "\u001b[0;32m/usr/local/lib/python3.6/dist-packages/keras/engine/saving.py\u001b[0m in \u001b[0;36mget_json_type\u001b[0;34m(obj)\u001b[0m\n\u001b[1;32m     89\u001b[0m             \u001b[0;32mreturn\u001b[0m \u001b[0mobj\u001b[0m\u001b[0;34m.\u001b[0m\u001b[0m__name__\u001b[0m\u001b[0;34m\u001b[0m\u001b[0;34m\u001b[0m\u001b[0m\n\u001b[1;32m     90\u001b[0m \u001b[0;34m\u001b[0m\u001b[0m\n\u001b[0;32m---> 91\u001b[0;31m         \u001b[0;32mraise\u001b[0m \u001b[0mTypeError\u001b[0m\u001b[0;34m(\u001b[0m\u001b[0;34m'Not JSON Serializable: %s'\u001b[0m \u001b[0;34m%\u001b[0m \u001b[0;34m(\u001b[0m\u001b[0mobj\u001b[0m\u001b[0;34m,\u001b[0m\u001b[0;34m)\u001b[0m\u001b[0;34m)\u001b[0m\u001b[0;34m\u001b[0m\u001b[0;34m\u001b[0m\u001b[0m\n\u001b[0m\u001b[1;32m     92\u001b[0m \u001b[0;34m\u001b[0m\u001b[0m\n\u001b[1;32m     93\u001b[0m     \u001b[0;32mfrom\u001b[0m \u001b[0;34m.\u001b[0m\u001b[0;34m.\u001b[0m \u001b[0;32mimport\u001b[0m \u001b[0m__version__\u001b[0m \u001b[0;32mas\u001b[0m \u001b[0mkeras_version\u001b[0m\u001b[0;34m\u001b[0m\u001b[0;34m\u001b[0m\u001b[0m\n",
            "\u001b[0;31mTypeError\u001b[0m: Not JSON Serializable: 1"
          ]
        }
      ]
    },
    {
      "cell_type": "code",
      "metadata": {
        "id": "1l-Y5uu2nWYy",
        "colab_type": "code",
        "colab": {}
      },
      "source": [
        ""
      ],
      "execution_count": 0,
      "outputs": []
    }
  ]
}