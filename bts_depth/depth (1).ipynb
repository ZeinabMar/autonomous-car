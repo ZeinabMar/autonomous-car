{
  "nbformat": 4,
  "nbformat_minor": 0,
  "metadata": {
    "colab": {
      "name": "depth.ipynb",
      "provenance": [],
      "collapsed_sections": []
    },
    "kernelspec": {
      "name": "python3",
      "display_name": "Python 3"
    },
    "accelerator": "GPU"
  },
  "cells": [
    {
      "cell_type": "code",
      "metadata": {
        "colab": {
          "base_uri": "https://localhost:8080/"
        },
        "id": "Fz7xLqbah4jv",
        "outputId": "3dc537c9-ba7a-4a9b-b088-23f4124b5bc6"
      },
      "source": [
        "%cd /content"
      ],
      "execution_count": 3,
      "outputs": [
        {
          "output_type": "stream",
          "text": [
            "/content\n"
          ],
          "name": "stdout"
        }
      ]
    },
    {
      "cell_type": "code",
      "metadata": {
        "id": "6lxQCFK618oV"
      },
      "source": [
        "%mkdir workspace"
      ],
      "execution_count": 4,
      "outputs": []
    },
    {
      "cell_type": "code",
      "metadata": {
        "colab": {
          "base_uri": "https://localhost:8080/"
        },
        "id": "yRbRPNON2VA9",
        "outputId": "b2c39c0e-ef74-4d3c-f1b8-7a9a145f191c"
      },
      "source": [
        "%cd workspace"
      ],
      "execution_count": 5,
      "outputs": [
        {
          "output_type": "stream",
          "text": [
            "/content/workspace\n"
          ],
          "name": "stdout"
        }
      ]
    },
    {
      "cell_type": "code",
      "metadata": {
        "id": "ph_VfSS_2ddu"
      },
      "source": [
        "%mkdir dataset"
      ],
      "execution_count": 6,
      "outputs": []
    },
    {
      "cell_type": "code",
      "metadata": {
        "colab": {
          "base_uri": "https://localhost:8080/"
        },
        "id": "xueK9z2X2hRc",
        "outputId": "9f8fa161-1b6c-419f-85d2-e9b2ab4e2419"
      },
      "source": [
        "!git clone https://github.com/cogaplex-bts/bts"
      ],
      "execution_count": 7,
      "outputs": [
        {
          "output_type": "stream",
          "text": [
            "Cloning into 'bts'...\n",
            "remote: Enumerating objects: 9, done.\u001b[K\n",
            "remote: Counting objects: 100% (9/9), done.\u001b[K\n",
            "remote: Compressing objects: 100% (7/7), done.\u001b[K\n",
            "remote: Total 343 (delta 3), reused 4 (delta 2), pack-reused 334\u001b[K\n",
            "Receiving objects: 100% (343/343), 645.01 KiB | 13.16 MiB/s, done.\n",
            "Resolving deltas: 100% (214/214), done.\n"
          ],
          "name": "stdout"
        }
      ]
    },
    {
      "cell_type": "code",
      "metadata": {
        "colab": {
          "base_uri": "https://localhost:8080/"
        },
        "id": "ZsgNzePK3L2C",
        "outputId": "39a7eb31-7bac-48ca-cd3d-ecf8bda49a61"
      },
      "source": [
        "%cd /content/workspace/bts/pytorch"
      ],
      "execution_count": 8,
      "outputs": [
        {
          "output_type": "stream",
          "text": [
            "/content/workspace/bts/pytorch\n"
          ],
          "name": "stdout"
        }
      ]
    },
    {
      "cell_type": "code",
      "metadata": {
        "id": "yPZCJ18tob3n"
      },
      "source": [
        "%mkdir models"
      ],
      "execution_count": 9,
      "outputs": []
    },
    {
      "cell_type": "code",
      "metadata": {
        "colab": {
          "base_uri": "https://localhost:8080/"
        },
        "id": "L7Wz3KwB_rP7",
        "outputId": "fdfe1c7f-49a6-4b62-cf5a-fa7044331d6f"
      },
      "source": [
        "%cd models"
      ],
      "execution_count": 10,
      "outputs": [
        {
          "output_type": "stream",
          "text": [
            "/content/workspace/bts/pytorch/models\n"
          ],
          "name": "stdout"
        }
      ]
    },
    {
      "cell_type": "code",
      "metadata": {
        "colab": {
          "base_uri": "https://localhost:8080/"
        },
        "id": "sURUsxJB_t0W",
        "outputId": "3646c731-7171-409f-9a9c-e6017c67384c"
      },
      "source": [
        "!wget https://cogaplex-bts.s3.ap-northeast-2.amazonaws.com/bts_nyu_v2_pytorch_densenet161.zip"
      ],
      "execution_count": 11,
      "outputs": [
        {
          "output_type": "stream",
          "text": [
            "--2020-12-22 14:07:29--  https://cogaplex-bts.s3.ap-northeast-2.amazonaws.com/bts_nyu_v2_pytorch_densenet161.zip\n",
            "Resolving cogaplex-bts.s3.ap-northeast-2.amazonaws.com (cogaplex-bts.s3.ap-northeast-2.amazonaws.com)... 52.219.56.23\n",
            "Connecting to cogaplex-bts.s3.ap-northeast-2.amazonaws.com (cogaplex-bts.s3.ap-northeast-2.amazonaws.com)|52.219.56.23|:443... connected.\n",
            "HTTP request sent, awaiting response... 200 OK\n",
            "Length: 500441014 (477M) [application/zip]\n",
            "Saving to: ‘bts_nyu_v2_pytorch_densenet161.zip’\n",
            "\n",
            "bts_nyu_v2_pytorch_ 100%[===================>] 477.26M  16.6MB/s    in 31s     \n",
            "\n",
            "2020-12-22 14:08:00 (15.6 MB/s) - ‘bts_nyu_v2_pytorch_densenet161.zip’ saved [500441014/500441014]\n",
            "\n"
          ],
          "name": "stdout"
        }
      ]
    },
    {
      "cell_type": "code",
      "metadata": {
        "colab": {
          "base_uri": "https://localhost:8080/"
        },
        "id": "ITuQ0glB_zb3",
        "outputId": "307a5ed1-41d6-45b3-dfcd-196983808b02"
      },
      "source": [
        "!unzip bts_nyu_v2_pytorch_densenet161.zip"
      ],
      "execution_count": 12,
      "outputs": [
        {
          "output_type": "stream",
          "text": [
            "Archive:  bts_nyu_v2_pytorch_densenet161.zip\n",
            "   creating: bts_nyu_v2_pytorch_densenet161/\n",
            "  inflating: bts_nyu_v2_pytorch_densenet161/arguments_train_nyu.txt  \n",
            "  inflating: bts_nyu_v2_pytorch_densenet161/bts_nyu_v2_pytorch_densenet161.py  \n",
            "  inflating: bts_nyu_v2_pytorch_densenet161/model  \n"
          ],
          "name": "stdout"
        }
      ]
    },
    {
      "cell_type": "code",
      "metadata": {
        "colab": {
          "base_uri": "https://localhost:8080/"
        },
        "id": "VcP7IXTmBKpe",
        "outputId": "063e6c22-4ffb-48aa-bdf9-6e004dae317d"
      },
      "source": [
        "%cd /content/workspace/bts/pytorch"
      ],
      "execution_count": 16,
      "outputs": [
        {
          "output_type": "stream",
          "text": [
            "/content/workspace/bts/pytorch\n"
          ],
          "name": "stdout"
        }
      ]
    },
    {
      "cell_type": "code",
      "metadata": {
        "colab": {
          "base_uri": "https://localhost:8080/"
        },
        "id": "bavsbfM7BCB5",
        "outputId": "48fe72f5-8b11-4ca4-aef8-3ec01282f570"
      },
      "source": [
        "!python bts_test.py \\\r\n",
        "--encoder densenet161_bts \\\r\n",
        "--data_path /content/workspace/dataset/car.png \\\r\n",
        "--model_name bts_nyu_v2_pytorch_densenet161 \\\r\n",
        "--checkpoint_path /content/workspace/bts/pytorch/models/bts_nyu_v2_pytorch_densenet161/model \\\r\n",
        "--input_height 480 \\\r\n",
        "--input_width 640 \\\r\n",
        "--max_depth 80 \\\r\n",
        "--do_kb_crop "
      ],
      "execution_count": 17,
      "outputs": [
        {
          "output_type": "stream",
          "text": [
            "now testing 1 files with /content/workspace/bts/pytorch/models/bts_nyu_v2_pytorch_densenet161/model\n",
            "  0% 0/1 [00:00<?, ?it/s]/usr/local/lib/python3.6/dist-packages/torch/nn/functional.py:3103: UserWarning: The default behavior for interpolate/upsample with float scale_factor changed in 1.6.0 to align with other frameworks/libraries, and now uses scale_factor directly, instead of relying on the computed output size. If you wish to restore the old behavior, please set recompute_scale_factor=True. See the documentation of nn.Upsample for details. \n",
            "  warnings.warn(\"The default behavior for interpolate/upsample with float scale_factor changed \"\n",
            "100% 1/1 [00:00<00:00,  3.07it/s]\n",
            "Elapesed time: 0.32735371589660645\n",
            "Done.\n",
            "Saving result pngs..\n",
            "pred_depth [[14.051058 13.47496  12.491852 ...  9.094062  9.215035 10.014009]\n",
            " [13.444823 12.655663 11.724955 ...  8.822083  9.405443  9.40992 ]\n",
            " [12.741675 12.01692  11.554137 ...  8.868018  8.88216   9.707699]\n",
            " ...\n",
            " [ 9.900438  9.789776  9.758105 ...  8.955426  8.891338  9.0386  ]\n",
            " [10.135736  9.848743  9.795548 ...  8.871861  9.168511  9.465235]\n",
            " [10.421996  9.916317  9.759804 ...  9.199723  9.380743  9.96455 ]]\n"
          ],
          "name": "stdout"
        }
      ]
    },
    {
      "cell_type": "code",
      "metadata": {
        "id": "GhWGCouDBEHW"
      },
      "source": [
        ""
      ],
      "execution_count": null,
      "outputs": []
    }
  ]
}